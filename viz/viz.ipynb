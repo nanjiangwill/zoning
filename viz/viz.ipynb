{
 "cells": [
  {
   "cell_type": "code",
   "execution_count": null,
   "metadata": {},
   "outputs": [],
   "source": [
    "import os\n",
    "import json\n",
    "import polars as pl\n",
    "\n",
    "result_output_dir = 'results/'\n",
    "experiment_name = 'connecticut'\n",
    "\n",
    "metrics_path = os.path.join(\n",
    "    result_output_dir, experiment_name, \"metrics.yaml\"\n",
    ")\n",
    "pr_answers_df_path = os.path.join(\n",
    "    result_output_dir, experiment_name, \"pr_answers.csv\"\n",
    ")\n",
    "wrong_answers_df_path = os.path.join(\n",
    "    result_output_dir, experiment_name, \"wrong_answers.csv\"\n",
    ")\n",
    "\n",
    "# load json\n",
    "with open(metrics_path, 'r') as f:\n",
    "    metrics = json.load(f)\n",
    "\n",
    "# load csv\n",
    "pr_answers_df = pl.read_csv(pr_answers_df_path)\n",
    "wrong_answers_df = pl.read_csv(wrong_answers_df_path)\n",
    "\n"
   ]
  }
 ],
 "metadata": {
  "language_info": {
   "name": "python"
  }
 },
 "nbformat": 4,
 "nbformat_minor": 2
}
